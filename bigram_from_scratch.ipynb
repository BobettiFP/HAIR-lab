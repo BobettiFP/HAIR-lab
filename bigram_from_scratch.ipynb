{
  "nbformat": 4,
  "nbformat_minor": 0,
  "metadata": {
    "colab": {
      "provenance": [],
      "authorship_tag": "ABX9TyNuxAcmCEkUwat4cKBTVa4/",
      "include_colab_link": true
    },
    "kernelspec": {
      "name": "python3",
      "display_name": "Python 3"
    },
    "language_info": {
      "name": "python"
    }
  },
  "cells": [
    {
      "cell_type": "markdown",
      "metadata": {
        "id": "view-in-github",
        "colab_type": "text"
      },
      "source": [
        "<a href=\"https://colab.research.google.com/github/BobettiFP/HAIR-lab/blob/Computational-Linguistics/bigram_from_scratch.ipynb\" target=\"_parent\"><img src=\"https://colab.research.google.com/assets/colab-badge.svg\" alt=\"Open In Colab\"/></a>"
      ]
    },
    {
      "cell_type": "code",
      "execution_count": null,
      "metadata": {
        "id": "LVsqGsZnDM98"
      },
      "outputs": [],
      "source": [
        "corpus = [\"I am Sam\",\"Sam I am\",\"I do not like green eggs and ham\"]"
      ]
    },
    {
      "cell_type": "code",
      "source": [
        "for sentence in corpus:\n",
        "  print(sentence)"
      ],
      "metadata": {
        "colab": {
          "base_uri": "https://localhost:8080/"
        },
        "id": "KJA1uvLhFtay",
        "outputId": "5f685963-8e0e-4a39-a192-fc61f065cc7f"
      },
      "execution_count": null,
      "outputs": [
        {
          "output_type": "stream",
          "name": "stdout",
          "text": [
            "I am Sam\n",
            "Sam I am\n",
            "I do not like green eggs and ham\n"
          ]
        }
      ]
    },
    {
      "cell_type": "code",
      "source": [
        "tokenization_results = []\n",
        "for sentence in corpus:\n",
        "  tokenization_results.append(sentence.split(' '))\n",
        "tokenization_results"
      ],
      "metadata": {
        "colab": {
          "base_uri": "https://localhost:8080/"
        },
        "id": "oI2UnDTlF76r",
        "outputId": "1dba54d4-9255-4b05-d915-8f807cbe692e"
      },
      "execution_count": null,
      "outputs": [
        {
          "output_type": "execute_result",
          "data": {
            "text/plain": [
              "[['I', 'am', 'Sam'],\n",
              " ['Sam', 'I', 'am'],\n",
              " ['I', 'do', 'not', 'like', 'green', 'eggs', 'and', 'ham']]"
            ]
          },
          "metadata": {},
          "execution_count": 3
        }
      ]
    },
    {
      "cell_type": "code",
      "source": [
        "bigram = {}\n",
        "for val in tokenization_results:\n",
        "  for i in range(len(val)):\n",
        "\n",
        "    if i ==0:\n",
        "      temp = val[i]+\"|\"+\"<s>\"\n",
        "      if temp in bigram:\n",
        "        bigram[temp]+=1\n",
        "      else:\n",
        "        bigram[temp]=1\n",
        "\n",
        "    elif i == len(val)-1:\n",
        "      temp = \"</s>\"+\"|\"+val[i]\n",
        "      if temp in bigram:\n",
        "        bigram[temp]+=1\n",
        "      else:\n",
        "        bigram[temp]=1\n",
        "\n",
        "    else:\n",
        "      temp = val[i+1]+\"|\"+val[i]\n",
        "      if temp in bigram:\n",
        "        bigram[temp]+=1\n",
        "      else:\n",
        "        bigram[temp]=1\n",
        "\n",
        "print(bigram)"
      ],
      "metadata": {
        "colab": {
          "base_uri": "https://localhost:8080/"
        },
        "id": "R-e94mFzGPmR",
        "outputId": "8474fcf7-d642-4dae-b4d1-97cd45360152"
      },
      "execution_count": null,
      "outputs": [
        {
          "output_type": "stream",
          "name": "stdout",
          "text": [
            "{'I|<s>': 2, 'Sam|am': 1, '</s>|Sam': 1, 'Sam|<s>': 1, 'am|I': 1, '</s>|am': 1, 'not|do': 1, 'like|not': 1, 'green|like': 1, 'eggs|green': 1, 'and|eggs': 1, 'ham|and': 1, '</s>|ham': 1}\n"
          ]
        }
      ]
    },
    {
      "cell_type": "code",
      "source": [
        "#this is called a dictionary\n",
        "#it's in a form of {key: value} => Think of it as an actual dictionary, The key is the word, the value is its explanation\n",
        "#we will use the format of(latter word)|(former word) : (count)\n",
        "bigram = {}\n",
        "\n",
        "#we look through each \"tokenized\" sentence in our corpus\n",
        "for val in tokenization_results:\n",
        "  #and we look through each \"tokens(words)\" in each of our sentences\n",
        "  for i in range(len(val)):\n",
        "    #if it is the first word,\n",
        "    if i ==0:\n",
        "      #we will use the expression (the first word)|<s>\n",
        "      temp = val[i]+\"|\"+\"<s>\"\n",
        "      #if we have this expression in the dictionary\n",
        "      if temp in bigram:\n",
        "        #we will add 1 to its value\n",
        "        bigram[temp]+=1\n",
        "      #if it isn't in the dictionary, we will add a new key\n",
        "      #we will assign 1 to it\n",
        "      # in this case, it would be (latter word)|(former word) : (count)\n",
        "      else:\n",
        "        bigram[temp]=1\n",
        "\n",
        "    elif i == len(val)-1:\n",
        "      temp = \"</s>\"+\"|\"+val[i]\n",
        "      if temp in bigram:\n",
        "        bigram[temp]+=1\n",
        "      else:\n",
        "        bigram[temp]=1\n",
        "\n",
        "    else:\n",
        "      temp = val[i+1]+\"|\"+val[i]\n",
        "      if temp in bigram:\n",
        "        bigram[temp]+=1\n",
        "      else:\n",
        "        bigram[temp]=1\n",
        "\n",
        "print(bigram)"
      ],
      "metadata": {
        "colab": {
          "base_uri": "https://localhost:8080/"
        },
        "id": "3AfiqgrhI3II",
        "outputId": "f0fd9ab2-f64e-4a31-c991-02b7422ba625"
      },
      "execution_count": null,
      "outputs": [
        {
          "output_type": "stream",
          "name": "stdout",
          "text": [
            "{'I|<s>': 2, 'Sam|am': 1, '</s>|Sam': 1, 'Sam|<s>': 1, 'am|I': 1, '</s>|am': 1, 'not|do': 1, 'like|not': 1, 'green|like': 1, 'eggs|green': 1, 'and|eggs': 1, 'ham|and': 1, '</s>|ham': 1}\n"
          ]
        }
      ]
    },
    {
      "cell_type": "markdown",
      "source": [
        "#calculate the relative frequency"
      ],
      "metadata": {
        "id": "AfvYgoCblS4f"
      }
    },
    {
      "cell_type": "code",
      "source": [
        "#how many occurances of a particular word can I find?\n",
        "wordcount = {}\n",
        "full_token = []\n",
        "for i in tokenization_results:\n",
        "  for j in i:\n",
        "    full_token.append(j)\n",
        "\n",
        "for word in full_token:\n",
        "  if word in wordcount:\n",
        "    #we will add 1 to its value\n",
        "    wordcount[word]+=1\n",
        "  #if it isn't in the dictionary, we will add a new key\n",
        "  #we will assign 1 to it\n",
        "  # in this case, it would be (latter word)|(former word) : (count)\n",
        "  else:\n",
        "    wordcount[word]=1\n",
        "wordcount"
      ],
      "metadata": {
        "colab": {
          "base_uri": "https://localhost:8080/"
        },
        "id": "pbCbgTSDlwiL",
        "outputId": "65665f3e-77c4-438d-b659-417f1ed9c7c4"
      },
      "execution_count": null,
      "outputs": [
        {
          "output_type": "execute_result",
          "data": {
            "text/plain": [
              "{'I': 3,\n",
              " 'am': 2,\n",
              " 'Sam': 2,\n",
              " 'do': 1,\n",
              " 'not': 1,\n",
              " 'like': 1,\n",
              " 'green': 1,\n",
              " 'eggs': 1,\n",
              " 'and': 1,\n",
              " 'ham': 1}"
            ]
          },
          "metadata": {},
          "execution_count": 9
        }
      ]
    },
    {
      "cell_type": "code",
      "source": [
        "\n",
        "for k,v in bigram.items():\n"
      ],
      "metadata": {
        "id": "klfcj5o9lF5I"
      },
      "execution_count": null,
      "outputs": []
    },
    {
      "cell_type": "code",
      "source": [
        "# This function will generate n-grams based on input n and calculate relative frequencies\n",
        "def generate_ngram_relative_frequencies(tokenization_results, n):\n",
        "    ngram = {}\n",
        "\n",
        "    # We look through each \"tokenized\" sentence in our corpus\n",
        "    for val in tokenization_results:\n",
        "        # We loop through each \"tokens(words)\" in each sentence\n",
        "        for i in range(len(val)):\n",
        "            # For n-grams, we need to stop before we exceed the sentence length\n",
        "            if i <= len(val) - n:\n",
        "                # Create the n-gram by joining the next n words\n",
        "                temp = '|'.join(val[i:i+n])\n",
        "\n",
        "                # Update count in dictionary\n",
        "                if temp in ngram:\n",
        "                    ngram[temp] += 1\n",
        "                else:\n",
        "                    ngram[temp] = 1\n",
        "\n",
        "            # Special case for when i is less than n (to include <s> at the start)\n",
        "            if i < n - 1:\n",
        "                temp = '|'.join(val[0:i+1]) + \"|\" + \"<s>\"\n",
        "                if temp in ngram:\n",
        "                    ngram[temp] += 1\n",
        "                else:\n",
        "                    ngram[temp] = 1\n",
        "\n",
        "        # Special case to include </s> at the end\n",
        "        temp = '</s>' + '|' + '|'.join(val[-n+1:])\n",
        "        if temp in ngram:\n",
        "            ngram[temp] += 1\n",
        "        else:\n",
        "            ngram[temp] = 1\n",
        "\n",
        "    # Calculate total count of all n-grams\n",
        "    total_count = sum(ngram.values())\n",
        "\n",
        "    # Calculate relative frequencies\n",
        "    relative_frequencies = {key: value / total_count for key, value in ngram.items()}\n",
        "\n",
        "    return relative_frequencies\n",
        "\n",
        "# Example usage:\n",
        "n = 2  # You can change this to 4, 5, etc.\n",
        "tokenization_results = [[\"I\", \"like\", \"apples\"], [\"You\", \"like\", \"oranges\"]]\n",
        "ngram_relative_frequencies = generate_ngram_relative_frequencies(tokenization_results, n)\n",
        "print(ngram_relative_frequencies)\n"
      ],
      "metadata": {
        "colab": {
          "base_uri": "https://localhost:8080/"
        },
        "id": "JxIWYdD2cWXD",
        "outputId": "a4e74078-9a8f-4545-f3a5-0ff0f243e9c5"
      },
      "execution_count": null,
      "outputs": [
        {
          "output_type": "stream",
          "name": "stdout",
          "text": [
            "{'I|like': 0.125, 'I|<s>': 0.125, 'like|apples': 0.125, '</s>|apples': 0.125, 'You|like': 0.125, 'You|<s>': 0.125, 'like|oranges': 0.125, '</s>|oranges': 0.125}\n"
          ]
        }
      ]
    },
    {
      "cell_type": "code",
      "source": [
        "from collections import defaultdict\n",
        "\n",
        "# Function to generate n-grams and compute relative frequencies\n",
        "def generate_ngram_relative_frequencies(tokenization_results, n):\n",
        "    ngram_counts = defaultdict(int)     # Counts of each n-gram\n",
        "    context_counts = defaultdict(int)   # Counts of each context\n",
        "\n",
        "    for sentence in tokenization_results:\n",
        "        # Add (n-1) start tokens and one end token to handle sentence boundaries\n",
        "        tokens = ['<s>'] * (n-1) + sentence + ['</s>']\n",
        "\n",
        "        # Iterate over the sentence to extract n-grams\n",
        "        for i in range(len(tokens) - n + 1):\n",
        "            # Extract context and target word\n",
        "            context = tokens[i:i + n - 1]\n",
        "            target = tokens[i + n - 1]\n",
        "\n",
        "            # Create keys by joining words with '|'\n",
        "            ngram_key = '|'.join([target] + context)\n",
        "            context_key = '|'.join(context)\n",
        "\n",
        "            # Increment counts\n",
        "            ngram_counts[ngram_key] += 1\n",
        "            context_counts[context_key] += 1\n",
        "\n",
        "    # Calculate relative frequencies\n",
        "    relative_frequencies = {}\n",
        "    for ngram, count in ngram_counts.items():\n",
        "        parts = ngram.split('|')\n",
        "        target = parts[0]\n",
        "        context = '|'.join(parts[1:])\n",
        "        relative_freq = count / context_counts[context]\n",
        "        relative_frequencies[ngram] = relative_freq\n",
        "\n",
        "    return relative_frequencies\n",
        "\n",
        "# Example usage:\n",
        "\n",
        "n = 2  # Change this to 3 for trigrams, 4 for 4-grams, etc.\n",
        "tokenization_results = [\n",
        "    ['I', 'am', 'Sam'],\n",
        "    ['Sam', 'I', 'am'],\n",
        "    ['I', 'do', 'not', 'like', 'green', 'eggs', 'and', 'ham']\n",
        "]\n",
        "\n",
        "ngram_relative_frequencies = generate_ngram_relative_frequencies(tokenization_results, n)\n",
        "\n",
        "# Print relative frequencies in a sorted manner for readability\n",
        "for ngram in sorted(ngram_relative_frequencies):\n",
        "    print(f\"{ngram} : {ngram_relative_frequencies[ngram]:.3f}\")\n"
      ],
      "metadata": {
        "colab": {
          "base_uri": "https://localhost:8080/"
        },
        "id": "m87TG-gGdZ1H",
        "outputId": "77b901ca-c2d9-4f7c-b8a0-8028ea864aeb"
      },
      "execution_count": null,
      "outputs": [
        {
          "output_type": "stream",
          "name": "stdout",
          "text": [
            "</s>|Sam : 0.500\n",
            "</s>|am : 0.500\n",
            "</s>|ham : 1.000\n",
            "I|<s> : 0.667\n",
            "I|Sam : 0.500\n",
            "Sam|<s> : 0.333\n",
            "Sam|am : 0.500\n",
            "am|I : 0.667\n",
            "and|eggs : 1.000\n",
            "do|I : 0.333\n",
            "eggs|green : 1.000\n",
            "green|like : 1.000\n",
            "ham|and : 1.000\n",
            "like|not : 1.000\n",
            "not|do : 1.000\n"
          ]
        }
      ]
    }
  ]
}